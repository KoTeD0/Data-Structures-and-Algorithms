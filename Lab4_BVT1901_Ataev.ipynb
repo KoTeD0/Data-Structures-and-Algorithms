{
 "cells": [
  {
   "cell_type": "markdown",
   "id": "national-chambers",
   "metadata": {},
   "source": [
    "# <center>Лабораторная работа №4. Реализция Стека/Дека.</center>"
   ]
  },
  {
   "cell_type": "markdown",
   "id": "difficult-ethiopia",
   "metadata": {},
   "source": [
    "## <center>Выполнил студент группы БВТ1901 Атаев Реджеп</center>"
   ]
  },
  {
   "cell_type": "markdown",
   "id": "associate-taylor",
   "metadata": {},
   "source": [
    "### Реализовать следующие структуры данных:\n",
    "- [Стек](https://en.wikipedia.org/wiki/Stack_(abstract_data_type)) :\\\n",
    "    Операция для стека: инициализация, проверка на пустоту, добавление нового элемента в начало, извлечение элемента из начала.\n",
    "- [Дек](https://en.wikipedia.org/wiki/Double-ended_queue) :\\\n",
    "    Операциии для дека: инициализация, проверка на пустоту, добавление нового элемента в начало, добавление нового элемента в конец, извлечение элемента из начала, извлечение элемента изз конца.\n",
    "    \n",
    "Разработать программу обработки данных, содержащихся в заранее подготовленном txt-файле, в соответствии с заданиями, применив указанную в задании структуру данных. Результат работы программы вывести на экран и сохранить в отдельном txt-файле\n",
    "\n",
    "Оформить отчет о лабораторной работе в ipynb или pdf-файле"
   ]
  },
  {
   "cell_type": "code",
   "execution_count": 1,
   "id": "comic-trader",
   "metadata": {},
   "outputs": [],
   "source": [
    "class Stack:\n",
    "    def __init__(self):\n",
    "        self.items = []\n",
    "        \n",
    "    def push(self, data):\n",
    "        self.items.insert(0, data)\n",
    "        \n",
    "    def pop(self):\n",
    "        return self.items.pop(0)\n",
    "    \n",
    "    def peek(self):\n",
    "        return self.items[0]\n",
    "        \n",
    "    def isEmpty(self):\n",
    "        return self.items == []\n",
    "    \n",
    "    def __len__(self):\n",
    "        return len(self.items)"
   ]
  },
  {
   "cell_type": "code",
   "execution_count": 2,
   "id": "strange-genealogy",
   "metadata": {},
   "outputs": [],
   "source": [
    "class Deque:\n",
    "    def __init__(self):\n",
    "        self.items = []\n",
    "        \n",
    "    def pushFront(self, data):\n",
    "        self.items.insert(0, data)\n",
    "        \n",
    "    def pushRear(self, data):\n",
    "        self.items.append(data)\n",
    "        \n",
    "    def popFront(self):\n",
    "        return self.items.pop(0)\n",
    "    \n",
    "    def popRear(self):\n",
    "        return self.items.pop()\n",
    "    \n",
    "    def peekFront(self):\n",
    "        return self.items[0]\n",
    "    \n",
    "    def peekRear(self):\n",
    "        return self.items[-1]\n",
    "    \n",
    "    def isEmpty(self):\n",
    "        return self.items == []\n",
    "    \n",
    "    def __len__(self):\n",
    "        return len(self.items)"
   ]
  },
  {
   "cell_type": "markdown",
   "id": "minor-maker",
   "metadata": {},
   "source": [
    "### Задание 1: \n",
    "\n",
    "Отсортировать строки файла, содержащие названия книг, в алфавитном порядке с использованием двух деков.\n"
   ]
  },
  {
   "cell_type": "code",
   "execution_count": 3,
   "id": "right-august",
   "metadata": {
    "scrolled": false
   },
   "outputs": [
    {
     "name": "stdout",
     "output_type": "stream",
     "text": [
      "Анна Каренина\n",
      "\n",
      "Вишневый сад\n",
      "\n",
      "Мастер и Маргарита\n",
      "\n",
      "Мертвые души\n",
      "\n",
      "Портрет Дориана Грея\n",
      "\n",
      "Приключения Тома Сойера\n",
      "\n",
      "Приключения Шерлока Холмса\n",
      "\n",
      "Сонеты Гамлет\n",
      "Тихий Дон\n",
      "\n"
     ]
    }
   ],
   "source": [
    "with open ('books.txt', 'r') as books:\n",
    "    d1 = Deque()\n",
    "    d2 = Deque()\n",
    "    for book in books:\n",
    "        d1.pushFront(book)\n",
    "    while not d1.isEmpty():\n",
    "        check = d1.popFront()\n",
    "        while not d2.isEmpty() and d2.peekFront() > check:\n",
    "            d1.pushRear(d2.popFront())\n",
    "        d2.pushFront(check)\n",
    "    while not d2.isEmpty():\n",
    "        print(d2.popRear())"
   ]
  },
  {
   "cell_type": "markdown",
   "id": "facial-verse",
   "metadata": {},
   "source": [
    "### Задание 2:\n",
    "Дек содержит последовательность символов для шифровки сообщений. Дан текстовый файл, содержащий зашифрованное сообщение. Пользуясь деком, расшифровать текст. Известно, что при шифровке каждый символ сообщения заменялся следующим за ним в деке по часовой стрелке через один."
   ]
  },
  {
   "cell_type": "code",
   "execution_count": 4,
   "id": "careful-bennett",
   "metadata": {},
   "outputs": [
    {
     "name": "stdout",
     "output_type": "stream",
     "text": [
      "цд,трнцдкгжутзнрьдцнивудьяпнруятржеиньнитцьстщжбкни,жтрннъйдпжхэтцвптуд,руниахтбвхьётрнцдкгвйжхтлвщжбкнивппндтрннъйдпждэтзньялчсрятцд,неёткврщжбкнивуятуд,руэтжлидрупнёт.унтзкжтщжбкни,дт,вгцахтржеиньтрннъйдпжстлведпсьрстрьдцчмйжетлвтпжетитцд,дтзнт.врнинхтрукдь,дт.дкдлтнцжпэ\n",
      "дек содержит последовательность символов для шифровки сообщений. дан текстовый файл, содержащий зашифрованное сообщение. пользуясь деком, расшифровать текст. известно, что при шифровке каждый символ сообщения заменялся следующим за ним в деке по часовой стрелке через один.\n"
     ]
    }
   ],
   "source": [
    "import random\n",
    "\n",
    "alphabet = 'абвгдеёжзийклмнопрстуфхцчшщъыьэюя,. '\n",
    "alphabet = list(alphabet)\n",
    "random.shuffle(alphabet)\n",
    "    \n",
    "deque = Deque()\n",
    "[deque.pushFront(x) for x in alphabet]\n",
    "\n",
    "def Cipher(text):\n",
    "    cache = ''\n",
    "    for word in text:\n",
    "        for letter in word:\n",
    "            # cache += deque.items[abs(len(deque.items) - (deque.items.index(letter.lower()) + 2))]\n",
    "            cache += deque.items[(deque.items.index(letter.lower()) + 2) % len(deque.items)]\n",
    "\n",
    "    print(cache)\n",
    "    return (cache)\n",
    "\n",
    "\n",
    "def Decipher(cipher):\n",
    "    cache = ''\n",
    "    for letter in cipher:\n",
    "        cache += deque.items[(deque.items.index(letter.lower()) - 2) % len(deque.items)]\n",
    "\n",
    "    return cache\n",
    "\n",
    "print(Decipher(Cipher('Дек содержит последовательность символов для шифровки сообщений. Дан текстовый файл, содержащий зашифрованное сообщение. Пользуясь деком, расшифровать текст. Известно, что при шифровке каждый символ сообщения заменялся следующим за ним в деке по часовой стрелке через один.')))"
   ]
  },
  {
   "cell_type": "markdown",
   "id": "stylish-soviet",
   "metadata": {},
   "source": [
    "### Задание 3:\n",
    "Даны три стержня и n дисков различного размера. Диски можно надевать на стержни, образуя из них башни. Перенести n дисков со стержня А на стержень С, сохранив их первоначальный порядок. При переносе дисков необходимо соблюдать следующие правила:\n",
    "- на каждом шаге со стержня на стержень переносить только один диск;\n",
    "- диск нельзя помещать на диск меньшего размера;\n",
    "- для промежуточного хранения можно использовать стержень В.\n",
    "Реализовать алгоритм, используя три стека вместо стержней А, В, С. Информацияо дисках хранится в исходном файле"
   ]
  },
  {
   "cell_type": "code",
   "execution_count": 5,
   "id": "aging-healthcare",
   "metadata": {},
   "outputs": [
    {
     "name": "stdout",
     "output_type": "stream",
     "text": [
      "Move Disk 1 from A, to B\n",
      "Move disk 2 from A, to B\n",
      "Move Disk 1 from C, to B\n",
      "Move disk 3 from A, to B\n",
      "Move Disk 1 from C, to B\n",
      "Move disk 2 from C, to B\n",
      "Move Disk 1 from A, to B\n",
      "Move disk 4 from A, to B\n",
      "Move Disk 1 from C, to B\n",
      "Move disk 2 from C, to B\n",
      "Move Disk 1 from A, to B\n",
      "Move disk 3 from C, to B\n",
      "Move Disk 1 from A, to B\n",
      "Move disk 2 from A, to B\n",
      "Move Disk 1 from C, to B\n",
      "1\n",
      "2\n",
      "3\n",
      "4\n"
     ]
    }
   ],
   "source": [
    "def towers(N, A, B, C, From, To, Helper):\n",
    "    if N == 1:\n",
    "        \n",
    "        print(f\"Move Disk 1 from {A}, to {B}\")\n",
    "        To.push(From.pop())\n",
    "        return\n",
    "    \n",
    "    towers(N-1, A, B, C, From, Helper, To)\n",
    "    To.push(From.pop())\n",
    "    print(f\"Move disk {N} from {A}, to {B}\")\n",
    "    towers(N-1, C, B, A, Helper, To, From)\n",
    "        \n",
    "N = 4\n",
    "From = Stack()\n",
    "[From.push(i) for i in range(N, 0, -1)]\n",
    "Helper = Stack()\n",
    "To = Stack()\n",
    "towers(N, 'A', 'B', 'C', From, To, Helper)\n",
    "while not To.isEmpty():\n",
    "    print(To.pop())"
   ]
  },
  {
   "cell_type": "markdown",
   "id": "digital-malaysia",
   "metadata": {},
   "source": [
    "### Задание 4:\n",
    "Дан текстовый файл с программой на алгоритмическом языке. За один просмотр файла проверить баланс круглых скобок в тексте, используя стек."
   ]
  },
  {
   "cell_type": "code",
   "execution_count": 6,
   "id": "protecting-challenge",
   "metadata": {},
   "outputs": [
    {
     "name": "stdout",
     "output_type": "stream",
     "text": [
      "True\n",
      "False\n"
     ]
    }
   ],
   "source": [
    "def balance(string):\n",
    "    deque = Deque()\n",
    "    for i in string:\n",
    "        if i == '(':\n",
    "            deque.pushFront(i)\n",
    "        elif i == ')':\n",
    "            if deque.isEmpty():\n",
    "                return False\n",
    "            else:\n",
    "                deque.popFront()\n",
    "\n",
    "    return deque.isEmpty()\n",
    "\n",
    "print(balance('(()())()()()()(()(()(())()))'))\n",
    "print(balance('()())((())(()(())()'))"
   ]
  },
  {
   "cell_type": "markdown",
   "id": "secure-interference",
   "metadata": {},
   "source": [
    "### Задание 5:\n",
    "Дан текстовый файл с программой на алгоритмическом языке. За один просмотр файла проверить баланс квадратных скобок в тексте, используя дек."
   ]
  },
  {
   "cell_type": "code",
   "execution_count": 7,
   "id": "satisfactory-found",
   "metadata": {},
   "outputs": [
    {
     "name": "stdout",
     "output_type": "stream",
     "text": [
      "False\n",
      "True\n"
     ]
    }
   ],
   "source": [
    "def balance(string):\n",
    "    deque = Deque()\n",
    "    for i in string:\n",
    "        if i == '[':\n",
    "            deque.pushFront(i)\n",
    "        elif i == ']':\n",
    "            if deque.isEmpty():\n",
    "                return False\n",
    "            else:\n",
    "                deque.popFront()\n",
    "\n",
    "    return deque.isEmpty()\n",
    "\n",
    "print(balance('[][[][[[[]][[]]]]]]'))\n",
    "print(balance('[[][][][[][]][][[][][][][]]][]'))"
   ]
  },
  {
   "cell_type": "markdown",
   "id": "institutional-affiliate",
   "metadata": {},
   "source": [
    "### Задание 6:\n",
    "Дан файл из символов. Используя стек, за один просмотр файла напечатать сначала все цифры, затем все буквы, и, наконец, все остальные символы, сохраняя исходный порядок в каждой группе символов."
   ]
  },
  {
   "cell_type": "code",
   "execution_count": 8,
   "id": "cathedral-cooperative",
   "metadata": {},
   "outputs": [
    {
     "name": "stdout",
     "output_type": "stream",
     "text": [
      "15001960 LoremIpsumissimplydummytextoftheprintingandtypesettingindustryLoremIpsumhasbeentheindustrysstandarddummytexteversincetheswhenanunknownprintertookagalleyoftypeandscrambledittomakeatypespecimenbookIthassurvivednotonlyfivecenturiesbutalsotheleapintoelectronictypesettingremainingessentiallyunchangedItwaspopularisedintheswiththereleaseofLetrasetsheetscontainingLoremIpsumpassagesandmorerecentlywithdesktoppublishingsoftwarelikeAldusPageMakerincludingversionsofLoremIpsum            .      '       ,                  .       ,       ,   .                ,               .\n"
     ]
    }
   ],
   "source": [
    "def order(string):\n",
    "    numbers = Stack()\n",
    "    letters = Stack()\n",
    "    others = Stack()\n",
    "    \n",
    "    for i in string:\n",
    "        if i.isdigit():\n",
    "            numbers.push(i)\n",
    "        elif i.isalpha():\n",
    "            letters.push(i)\n",
    "        else: \n",
    "            others.push(i)\n",
    "            \n",
    "    checkedString = ''\n",
    "    checkedNumbers = ''\n",
    "    checkedOthers = ''\n",
    "    \n",
    "    while not numbers.isEmpty():\n",
    "        checkedNumbers += numbers.pop()\n",
    "    \n",
    "    while not letters.isEmpty():\n",
    "        checkedString += letters.pop()\n",
    "        \n",
    "    while not others.isEmpty():\n",
    "        checkedOthers += others.pop()\n",
    "        \n",
    "    print(checkedNumbers [::-1], checkedString [::-1], checkedOthers [::-1])\n",
    "        \n",
    "order(\"Lorem Ipsum is simply dummy text of the printing and typesetting industry. Lorem Ipsum has been the industry's standard dummy text ever since the 1500s, when an unknown printer took a galley of type and scrambled it to make a type specimen book. It has survived not only five centuries, but also the leap into electronic typesetting, remaining essentially unchanged. It was popularised in the 1960s with the release of Letraset sheets containing Lorem Ipsum passages, and more recently with desktop publishing software like Aldus PageMaker including versions of Lorem Ipsum.\")            "
   ]
  },
  {
   "cell_type": "markdown",
   "id": "crazy-fantasy",
   "metadata": {},
   "source": [
    "### Задание 7:\n",
    "Дан файл из целых чисел. Используя дек, за один просмотр файла напечатать сначала все отрицательные числа, затем все положительные числа, сохраняя исходный порядок в каждой группе."
   ]
  },
  {
   "cell_type": "code",
   "execution_count": 9,
   "id": "unlikely-nickel",
   "metadata": {},
   "outputs": [
    {
     "name": "stdout",
     "output_type": "stream",
     "text": [
      "[96, -98, 58, 52, 49, 36, -17, -92, -71, -85]\n",
      "-98\n",
      "-17\n",
      "-92\n",
      "-71\n",
      "-85\n",
      "36\n",
      "49\n",
      "52\n",
      "58\n",
      "96\n"
     ]
    }
   ],
   "source": [
    "def Numbers(string):\n",
    "    deque = Deque()\n",
    "    for i in string:\n",
    "        if i < 0:\n",
    "            deque.pushRear(i)\n",
    "        else:\n",
    "            deque.pushFront(i)\n",
    "      \n",
    "    for i in range(len(deque.items)):\n",
    "        temp = deque.popFront()\n",
    "        if temp > 0:\n",
    "            deque.pushRear(temp)\n",
    "        else:\n",
    "            print(temp)\n",
    "            \n",
    "    for i in range(len(deque.items)):\n",
    "        print(deque.items[i])\n",
    "\n",
    "num = [random.randint(-100, 100) for i in range(10)]\n",
    "print (num)\n",
    "Numbers(num)"
   ]
  },
  {
   "cell_type": "markdown",
   "id": "hidden-norwegian",
   "metadata": {},
   "source": [
    "### Задание 8:\n",
    "Дан текстовый файл. Используя стек, сформировать новый текстовый файл, одержащий строки исходного файла, записанные в обратном порядке: первая трока становится последней, вторая – предпоследней и т.д."
   ]
  },
  {
   "cell_type": "code",
   "execution_count": 10,
   "id": "considered-affiliation",
   "metadata": {
    "scrolled": true
   },
   "outputs": [
    {
     "name": "stdout",
     "output_type": "stream",
     "text": [
      "Сонеты Гамлет\n",
      "Портрет Дориана Грея\n",
      "\n",
      "Тихий Дон\n",
      "\n",
      "Приключения Шерлока Холмса\n",
      "\n",
      "Мастер и Маргарита\n",
      "\n",
      "Вишневый сад\n",
      "\n",
      "Мертвые души\n",
      "\n",
      "Приключения Тома Сойера\n",
      "\n",
      "Анна Каренина\n",
      "\n"
     ]
    }
   ],
   "source": [
    "with open ('books.txt', 'r+') as books:\n",
    "    deque = Deque()\n",
    "    for i in books:\n",
    "        deque.pushFront(i)\n",
    "    while not deque.isEmpty():\n",
    "        print(deque.popFront())"
   ]
  },
  {
   "cell_type": "markdown",
   "id": "changing-champagne",
   "metadata": {},
   "source": [
    "### Задание 9:\n",
    "Дан текстовый файл. Используя стек, вычислить значение логического выражения, записанного в текстовом файле в следующей форме:< ЛВ > ::= T | F | (N<ЛВ>) | (<ЛВ>A<ЛВ>) | (<ЛВ>X<ЛВ>) | (<ЛВ>O<ЛВ>),\\\n",
    "где буквами обозначены логические константы и операции:\\\n",
    "T – True, F – False, N – Not, A – And, X – Xor, O – Or"
   ]
  },
  {
   "cell_type": "code",
   "execution_count": 11,
   "id": "conventional-iraqi",
   "metadata": {},
   "outputs": [
    {
     "data": {
      "text/plain": [
       "False"
      ]
     },
     "execution_count": 11,
     "metadata": {},
     "output_type": "execute_result"
    }
   ],
   "source": [
    "def logic1(le):\n",
    "    if len(le) < 1:\n",
    "        raise ValueError()\n",
    "    s = []\n",
    "    i = 0\n",
    "    for c in le:\n",
    "        if (c != ')'):\n",
    "            if (c == 'T'):\n",
    "                s.append(True)\n",
    "            elif (c == 'F'):\n",
    "                s.append(False)\n",
    "            else:\n",
    "                s.append(c)\n",
    "        else:\n",
    "            while len(s) > 1:\n",
    "                opr = s.pop()\n",
    "                oper = s.pop()\n",
    "                \n",
    "                if oper == 'N':\n",
    "                    s.append(not opr)\n",
    "                \n",
    "                if oper == '(':\n",
    "                    break\n",
    "                    s.append(opr)\n",
    "            \n",
    "                opl = s.pop()\n",
    "                if oper == 'A':\n",
    "                    s.append(opl and opr)\n",
    "                elif oper == 'O':\n",
    "                    s.append(opl or opr)\n",
    "                elif oper == 'X':\n",
    "                    s.append(opl ^ opr)\n",
    "                else:\n",
    "                    raise ValueError(\"Invalid symbol\" + oper)\n",
    "        return s[0]\n",
    "    \n",
    "logic1('F(AT(XF))')"
   ]
  },
  {
   "cell_type": "markdown",
   "id": "alternative-daughter",
   "metadata": {},
   "source": [
    "### Задание 10:\n",
    "Дан текстовый файл. В текстовом файле записана формула следующего вида:\n",
    "\n",
    "    <Формула> ::= <Цифра> | M(<Формула>,<Формула>) | N(Формула>,<Формула>)\n",
    "    < Цифра > ::= 0 | 1 | 2 | 3 | 4 | 5 | 6 | 7 | 8 | 9\n",
    "где буквами обозначены функции:\n",
    "\n",
    "M – определение максимума, N – определение минимума.\n",
    "\n",
    "Используя стек, вычислить значение заданного выражения."
   ]
  },
  {
   "cell_type": "code",
   "execution_count": 12,
   "id": "arranged-mexico",
   "metadata": {},
   "outputs": [
    {
     "name": "stdout",
     "output_type": "stream",
     "text": [
      "Small number in last comparison is 7 \n",
      "Big number in last comparison is 8\n"
     ]
    }
   ],
   "source": [
    "def Comparison(exp):\n",
    "    operation = Stack()\n",
    "    numbers = Stack()\n",
    "\n",
    "    temp = ''\n",
    "    # stack write stage\n",
    "    for i in exp:\n",
    "        if i.isdigit():\n",
    "            temp += i\n",
    "        elif temp != '':\n",
    "            numbers.push(temp)\n",
    "            temp = ''\n",
    "        if i == 'M' or i == 'N':\n",
    "            operation.push(i)\n",
    "    \n",
    "    #logic stage\n",
    "    while not operation.isEmpty():\n",
    "        if temp != '':\n",
    "            big = temp\n",
    "        else:\n",
    "            big = numbers.pop()\n",
    "        small = numbers.pop()\n",
    "\n",
    "        if small > big:\n",
    "            small, big = big, small\n",
    "\n",
    "        if operation.pop() == 'M':\n",
    "            temp = big\n",
    "        else:\n",
    "            temp = small\n",
    "\n",
    "    return f\"Small number in last comparison is {small} \\nBig number in last comparison is {big}\"\n",
    "\n",
    "expression = 'N(8, M(4, N(7, M(9, M(5, N(2, 10))))))'\n",
    "print(Comparison(expression))"
   ]
  },
  {
   "cell_type": "markdown",
   "id": "built-station",
   "metadata": {},
   "source": [
    "### Задание 11:\n",
    "Дан текстовый файл. Используя стек, проверить, является ли содержимое текстового файла правильной записью формулы вида:\n",
    "< Формула > ::= < Терм > | < Терм > + < Формула > | < Терм > - < Формула >\\\n",
    "< Терм > ::= < Имя > | (< Формула >)\\\n",
    "< Имя > ::= x | y | z"
   ]
  },
  {
   "cell_type": "code",
   "execution_count": 13,
   "id": "peripheral-morrison",
   "metadata": {},
   "outputs": [
    {
     "name": "stdout",
     "output_type": "stream",
     "text": [
      "True\n"
     ]
    }
   ],
   "source": [
    "def formula(string):\n",
    "    stack = Stack()\n",
    "    result = False\n",
    "\n",
    "    string = string.replace('(', '')\n",
    "    string = string.replace(')', '')\n",
    "    for i in string:\n",
    "        stack.push(i)\n",
    "\n",
    "    while not stack.isEmpty():\n",
    "        temp = stack.pop()\n",
    "        if temp.isalpha():\n",
    "            if result:\n",
    "                return False\n",
    "            else:\n",
    "                result = True\n",
    "        else:\n",
    "            result = False\n",
    "\n",
    "    return result\n",
    "\n",
    "\n",
    "print(formula('X+(Z-Y)'))"
   ]
  },
  {
   "cell_type": "markdown",
   "id": "formal-retirement",
   "metadata": {},
   "source": [
    "<center>Вывод</center>\n",
    "В этой лабораторной работе поняли что такое Стек и Дек, а так же научились их применять"
   ]
  },
  {
   "cell_type": "code",
   "execution_count": null,
   "id": "moderate-bruce",
   "metadata": {},
   "outputs": [],
   "source": []
  }
 ],
 "metadata": {
  "kernelspec": {
   "display_name": "Python 3",
   "language": "python",
   "name": "python3"
  },
  "language_info": {
   "codemirror_mode": {
    "name": "ipython",
    "version": 3
   },
   "file_extension": ".py",
   "mimetype": "text/x-python",
   "name": "python",
   "nbconvert_exporter": "python",
   "pygments_lexer": "ipython3",
   "version": "3.7.9"
  }
 },
 "nbformat": 4,
 "nbformat_minor": 5
}
