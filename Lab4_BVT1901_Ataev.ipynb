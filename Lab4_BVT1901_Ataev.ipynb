{
 "cells": [
  {
   "cell_type": "markdown",
   "id": "national-chambers",
   "metadata": {},
   "source": [
    "# <center>Лабораторная работа №4. Реализция Стека/Дека.</center>"
   ]
  },
  {
   "cell_type": "markdown",
   "id": "difficult-ethiopia",
   "metadata": {},
   "source": [
    "## <center>Выполнил студент группы БВТ1901 Атаев Реджеп</center>"
   ]
  },
  {
   "cell_type": "markdown",
   "id": "associate-taylor",
   "metadata": {},
   "source": [
    "### Реализовать следующие структуры данных:\n",
    "+ <b>[Стек (Stack)](https://en.wikipedia.org/wiki/Stack_(abstract_data_type))</b>:\\\n",
    "    Операция для стека: инициализация, проверка на пустоту, добавление нового элемента в начало, извлечение элемента из начала.\n",
    "+ <b>[Дек (Deque)](https://en.wikipedia.org/wiki/Double-ended_queue)</b>:\\\n",
    "    Операциии для дека: инициализация, проверка на пустоту, добавление нового элемента в начало, добавление нового элемента в конец, извлечение элемента из начала, извлечение элемента изз конца.\n",
    "    \n",
    "Разработать программу обработки данных, содержащихся в заранее подготовленном txt-файле, в соответствии с заданиями, применив указанную в задании структуру данных. Результат работы программы вывести на экран и сохранить в отдельном txt-файле\n",
    "\n",
    "Оформить отчет о лабораторной работе в ipynb или pdf-файле"
   ]
  },
  {
   "cell_type": "code",
   "execution_count": 1,
   "id": "comic-trader",
   "metadata": {},
   "outputs": [],
   "source": [
    "class Stack:\n",
    "    def __init__(self):\n",
    "        self.items = []\n",
    "        \n",
    "    def push(self, data):\n",
    "        self.items.insert(0, data)\n",
    "        \n",
    "    def pop(self):\n",
    "        return self.items.pop(0)\n",
    "    \n",
    "    def peek(self):\n",
    "        return self.items[0]\n",
    "        \n",
    "    def isEmpty(self):\n",
    "        return self.items == []\n",
    "    \n",
    "    def __len__(self):\n",
    "        return len(self.items)"
   ]
  },
  {
   "cell_type": "code",
   "execution_count": 2,
   "id": "psychological-alarm",
   "metadata": {
    "scrolled": true
   },
   "outputs": [
    {
     "name": "stdout",
     "output_type": "stream",
     "text": [
      "True\n",
      "2\n",
      "False\n",
      "dog\n",
      "dog\n",
      "cat\n",
      "cat\n",
      "0\n",
      "True\n"
     ]
    }
   ],
   "source": [
    "s = Stack()\n",
    "print(s.isEmpty())\n",
    "\n",
    "s.push('cat')\n",
    "s.push('dog')\n",
    "\n",
    "print(len(s))\n",
    "print(s.isEmpty())\n",
    "\n",
    "print(s.peek())\n",
    "print(s.pop())\n",
    "\n",
    "print(s.peek())\n",
    "print(s.pop())\n",
    "\n",
    "print(len(s))\n",
    "print(s.isEmpty())"
   ]
  },
  {
   "cell_type": "code",
   "execution_count": 3,
   "id": "strange-genealogy",
   "metadata": {},
   "outputs": [],
   "source": [
    "class Deque:\n",
    "    def __init__(self):\n",
    "        self.items = []\n",
    "        \n",
    "    def pushFront(self, data):\n",
    "        self.items.insert(0, data)\n",
    "        \n",
    "    def pushRear(self, data):\n",
    "        self.items.append(data)\n",
    "        \n",
    "    def popFront(self):\n",
    "        return self.items.pop(0)\n",
    "    \n",
    "    def popRear(self):\n",
    "        return self.items.pop()\n",
    "    \n",
    "    def peekFront(self):\n",
    "        return self.items[0]\n",
    "    \n",
    "    def peekRear(self):\n",
    "        return self.items[-1]\n",
    "    \n",
    "    def isEmpty(self):\n",
    "        return self.items == []\n",
    "    \n",
    "    def __len__(self):\n",
    "        return len(self.items)"
   ]
  },
  {
   "cell_type": "code",
   "execution_count": 4,
   "id": "protective-burden",
   "metadata": {},
   "outputs": [
    {
     "name": "stdout",
     "output_type": "stream",
     "text": [
      "True\n",
      "4\n",
      "False\n",
      "dog\n",
      "dog\n",
      "rat\n",
      "rat\n",
      "cat\n",
      "cat\n",
      "mouse\n",
      "mouse\n",
      "0\n",
      "True\n"
     ]
    }
   ],
   "source": [
    "d = Deque()\n",
    "print(d.isEmpty())\n",
    "\n",
    "d.pushFront('cat')\n",
    "d.pushRear('mouse')\n",
    "d.pushFront('dog')\n",
    "d.pushRear('rat')\n",
    "\n",
    "print(len(d))\n",
    "print(d.isEmpty())\n",
    "\n",
    "print(d.peekFront())\n",
    "print(d.popFront())\n",
    "print(d.peekRear())\n",
    "print(d.popRear())\n",
    "print(d.peekFront())\n",
    "print(d.popFront())\n",
    "print(d.peekRear())\n",
    "print(d.popRear())\n",
    "\n",
    "print(len(d))\n",
    "print(d.isEmpty())"
   ]
  },
  {
   "cell_type": "markdown",
   "id": "minor-maker",
   "metadata": {},
   "source": [
    "### Задание 1: \n",
    "\n",
    "Отсортировать строки файла, содержащие названия книг, в алфавитном порядке с использованием двух деков.\n"
   ]
  },
  {
   "cell_type": "code",
   "execution_count": 66,
   "id": "right-august",
   "metadata": {
    "scrolled": true
   },
   "outputs": [
    {
     "name": "stdout",
     "output_type": "stream",
     "text": [
      "Анна Каренина\n",
      "\n",
      "Вишневый сад\n",
      "\n",
      "Мастер и Маргарита\n",
      "\n",
      "Мертвые души\n",
      "\n",
      "Портрет Дориана Грея\n",
      "\n",
      "Приключения Тома Сойера\n",
      "\n",
      "Приключения Шерлока Холмса\n",
      "\n",
      "Сонеты Гамлет\n",
      "Тихий Дон\n",
      "\n"
     ]
    }
   ],
   "source": [
    "with open ('books.txt', 'r') as books:\n",
    "    d1 = Deque()\n",
    "    d2 = Deque()\n",
    "    for book in books:\n",
    "        d1.pushFront(book)\n",
    "    while not d1.isEmpty():\n",
    "        check = d1.popFront()\n",
    "        while not d2.isEmpty() and d2.peekFront() > check:\n",
    "            d1.pushRear(d2.popFront())\n",
    "        d2.pushFront(check)\n",
    "    while not d2.isEmpty():\n",
    "        print(d2.popRear())"
   ]
  },
  {
   "cell_type": "markdown",
   "id": "facial-verse",
   "metadata": {},
   "source": [
    "### Задание 2:\n",
    "Дек содержит последовательность символов для шифровки сообщений. Дан текстовый файл, содержащий зашифрованное сообщение. Пользуясь деком, расшифровать текст. Известно, что при шифровке каждый символ сообщения заменялся следующим за ним в деке по часовой стрелке через один."
   ]
  },
  {
   "cell_type": "code",
   "execution_count": 67,
   "id": "careful-bennett",
   "metadata": {},
   "outputs": [
    {
     "name": "stdout",
     "output_type": "stream",
     "text": [
      "з жпёъз кюэбпоъёч зъ.ьб чфдъёбфпёэы.ъчъ.пзчтпяэнкъ.жэпёъърй дэмспзьдпб жёбъ.лмпньмчвпёъз кюьйэмпуьяэнкъ.ьддъ пёъърй дэ споъчфуцтёфпз жъывпкьёяэнкъ.ьбфпб жёбспэу. ёбдъвпгбъпокэпяэнкъ.ж пжьюзлмпёэы.ъчпёъърй дэтпуьы дтчётпёч зцейэыпуьпдэып.пз ж поъпгьёъ.ъмпёбк чж пг к упъзэдс\n",
      "дек содержит последовательность символов для шифровки сообщений. дан текстовый файл, содержащий зашифрованное сообщение. пользуясь деком, расшифровать текст. известно, что при шифровке каждый символ сообщения заменялся следующим за ним в деке по часовой стрелке через один.\n"
     ]
    }
   ],
   "source": [
    "import random\n",
    "\n",
    "alphabet = 'абвгдеёжзийклмнопрстуфхцчшщъыьэюя,. '\n",
    "alphabet = list(alphabet)\n",
    "random.shuffle(alphabet)\n",
    "    \n",
    "deque = Deque()\n",
    "[deque.pushFront(x) for x in alphabet]\n",
    "\n",
    "def Cipher(text):\n",
    "    cache = ''\n",
    "    for word in text:\n",
    "        for letter in word:\n",
    "            # cache += deque.items[abs(len(deque.items) - (deque.items.index(letter.lower()) + 2))]\n",
    "            cache += deque.items[(deque.items.index(letter.lower()) + 2) % len(deque.items)]\n",
    "\n",
    "    print(cache)\n",
    "    return (cache)\n",
    "\n",
    "\n",
    "def Decipher(cipher):\n",
    "    cache = ''\n",
    "    for letter in cipher:\n",
    "        cache += deque.items[(deque.items.index(letter.lower()) - 2) % len(deque.items)]\n",
    "\n",
    "    return cache\n",
    "\n",
    "print(Decipher(Cipher('Дек содержит последовательность символов для шифровки сообщений. Дан текстовый файл, содержащий зашифрованное сообщение. Пользуясь деком, расшифровать текст. Известно, что при шифровке каждый символ сообщения заменялся следующим за ним в деке по часовой стрелке через один.')))"
   ]
  },
  {
   "cell_type": "markdown",
   "id": "stylish-soviet",
   "metadata": {},
   "source": [
    "### Задание 3:\n",
    "Даны три стержня и n дисков различного размера. Диски можно надевать на стержни, образуя из них башни. Перенести n дисков со стержня А на стержень С, сохранив их первоначальный порядок. При переносе дисков необходимо соблюдать следующие правила:\n",
    "- на каждом шаге со стержня на стержень переносить только один диск;\n",
    "- диск нельзя помещать на диск меньшего размера;\n",
    "- для промежуточного хранения можно использовать стержень В.\n",
    "Реализовать алгоритм, используя три стека вместо стержней А, В, С. Информацияо дисках хранится в исходном файле"
   ]
  },
  {
   "cell_type": "markdown",
   "id": "digital-malaysia",
   "metadata": {},
   "source": [
    "### Задание 4:\n",
    "Дан текстовый файл с программой на алгоритмическом языке. За один просмотр файла проверить баланс круглых скобок в тексте, используя стек."
   ]
  },
  {
   "cell_type": "code",
   "execution_count": 21,
   "id": "protecting-challenge",
   "metadata": {},
   "outputs": [
    {
     "name": "stdout",
     "output_type": "stream",
     "text": [
      "True\n",
      "False\n"
     ]
    }
   ],
   "source": [
    "def balance(string):\n",
    "    deque = Deque()\n",
    "    for i in string:\n",
    "        if i == '(':\n",
    "            deque.pushFront(i)\n",
    "        elif i == ')':\n",
    "            if deque.isEmpty():\n",
    "                return False\n",
    "            else:\n",
    "                deque.popFront()\n",
    "\n",
    "    return deque.isEmpty()\n",
    "\n",
    "print(balance('(()())()()()()(()(()(())()))'))\n",
    "print(balance('()())((())(()(())()'))"
   ]
  },
  {
   "cell_type": "markdown",
   "id": "secure-interference",
   "metadata": {},
   "source": [
    "### Задание 5:\n",
    "Дан текстовый файл с программой на алгоритмическом языке. За один просмотр файла проверить баланс квадратных скобок в тексте, используя дек."
   ]
  },
  {
   "cell_type": "code",
   "execution_count": 22,
   "id": "satisfactory-found",
   "metadata": {},
   "outputs": [
    {
     "name": "stdout",
     "output_type": "stream",
     "text": [
      "False\n",
      "True\n"
     ]
    }
   ],
   "source": [
    "def balance(string):\n",
    "    deque = Deque()\n",
    "    for i in string:\n",
    "        if i == '[':\n",
    "            deque.pushFront(i)\n",
    "        elif i == ']':\n",
    "            if deque.isEmpty():\n",
    "                return False\n",
    "            else:\n",
    "                deque.popFront()\n",
    "\n",
    "    return deque.isEmpty()\n",
    "\n",
    "print(balance('[][[][[[[]][[]]]]]]'))\n",
    "print(balance('[[][][][[][]][][[][][][][]]][]'))"
   ]
  },
  {
   "cell_type": "markdown",
   "id": "institutional-affiliate",
   "metadata": {},
   "source": [
    "### Задание 6:\n",
    "Дан файл из символов. Используя стек, за один просмотр файла напечатать сначала все цифры, затем все буквы, и, наконец, все остальные символы, сохраняя исходный порядок в каждой группе символов."
   ]
  },
  {
   "cell_type": "code",
   "execution_count": 52,
   "id": "cathedral-cooperative",
   "metadata": {},
   "outputs": [
    {
     "name": "stdout",
     "output_type": "stream",
     "text": [
      "15001960 LoremIpsumissimplydummytextoftheprintingandtypesettingindustryLoremIpsumhasbeentheindustrysstandarddummytexteversincetheswhenanunknownprintertookagalleyoftypeandscrambledittomakeatypespecimenbookIthassurvivednotonlyfivecenturiesbutalsotheleapintoelectronictypesettingremainingessentiallyunchangedItwaspopularisedintheswiththereleaseofLetrasetsheetscontainingLoremIpsumpassagesandmorerecentlywithdesktoppublishingsoftwarelikeAldusPageMakerincludingversionsofLoremIpsum            .      '       ,                  .       ,       ,   .                ,               .\n"
     ]
    }
   ],
   "source": [
    "def order(string):\n",
    "    numbers = Stack()\n",
    "    letters = Stack()\n",
    "    others = Stack()\n",
    "    \n",
    "    for i in string:\n",
    "        if i.isdigit():\n",
    "            numbers.push(i)\n",
    "        elif i.isalpha():\n",
    "            letters.push(i)\n",
    "        else: \n",
    "            others.push(i)\n",
    "            \n",
    "    checkedString = ''\n",
    "    checkedNumbers = ''\n",
    "    checkedOthers = ''\n",
    "    \n",
    "    while not numbers.isEmpty():\n",
    "        checkedNumbers += numbers.pop()\n",
    "    \n",
    "    while not letters.isEmpty():\n",
    "        checkedString += letters.pop()\n",
    "        \n",
    "    while not others.isEmpty():\n",
    "        checkedOthers += others.pop()\n",
    "        \n",
    "    print(checkedNumbers [::-1], checkedString [::-1], checkedOthers [::-1])\n",
    "        \n",
    "order(\"Lorem Ipsum is simply dummy text of the printing and typesetting industry. Lorem Ipsum has been the industry's standard dummy text ever since the 1500s, when an unknown printer took a galley of type and scrambled it to make a type specimen book. It has survived not only five centuries, but also the leap into electronic typesetting, remaining essentially unchanged. It was popularised in the 1960s with the release of Letraset sheets containing Lorem Ipsum passages, and more recently with desktop publishing software like Aldus PageMaker including versions of Lorem Ipsum.\")            "
   ]
  },
  {
   "cell_type": "markdown",
   "id": "crazy-fantasy",
   "metadata": {},
   "source": [
    "### Задание 7:\n",
    "Дан файл из целых чисел. Используя дек, за один просмотр файла напечатать сначала все отрицательные числа, затем все положительные числа, сохраняя исходный порядок в каждой группе."
   ]
  },
  {
   "cell_type": "code",
   "execution_count": 71,
   "id": "unlikely-nickel",
   "metadata": {},
   "outputs": [
    {
     "name": "stdout",
     "output_type": "stream",
     "text": [
      "[-61, 78, 99, 86, 5, -55, 62, 64, 94, -26]\n",
      "-61\n",
      "-55\n",
      "-26\n",
      "94\n",
      "64\n",
      "62\n",
      "5\n",
      "86\n",
      "99\n",
      "78\n"
     ]
    }
   ],
   "source": [
    "def Numbers(string):\n",
    "    deque = Deque()\n",
    "    for i in string:\n",
    "        if i < 0:\n",
    "            deque.pushRear(i)\n",
    "        else:\n",
    "            deque.pushFront(i)\n",
    "      \n",
    "    for i in range(len(deque.items)):\n",
    "        temp = deque.popFront()\n",
    "        if temp > 0:\n",
    "            deque.pushRear(temp)\n",
    "        else:\n",
    "            print(temp)\n",
    "            \n",
    "    for i in range(len(deque.items)):\n",
    "        print(deque.items[i])\n",
    "\n",
    "num = [random.randint(-100, 100) for i in range(10)]\n",
    "print (num)\n",
    "Numbers(num)"
   ]
  },
  {
   "cell_type": "markdown",
   "id": "hidden-norwegian",
   "metadata": {},
   "source": [
    "### Задание 8:\n",
    "Дан текстовый файл. Используя стек, сформировать новый текстовый файл, одержащий строки исходного файла, записанные в обратном порядке: первая трока становится последней, вторая – предпоследней и т.д."
   ]
  },
  {
   "cell_type": "code",
   "execution_count": 73,
   "id": "considered-affiliation",
   "metadata": {},
   "outputs": [
    {
     "name": "stdout",
     "output_type": "stream",
     "text": [
      "Сонеты Гамлет\n",
      "Портрет Дориана Грея\n",
      "\n",
      "Тихий Дон\n",
      "\n",
      "Приключения Шерлока Холмса\n",
      "\n",
      "Мастер и Маргарита\n",
      "\n",
      "Вишневый сад\n",
      "\n",
      "Мертвые души\n",
      "\n",
      "Приключения Тома Сойера\n",
      "\n",
      "Анна Каренина\n",
      "\n"
     ]
    }
   ],
   "source": [
    "with open ('books.txt', 'r+') as books:\n",
    "    deque = Deque()\n",
    "    for i in books:\n",
    "        deque.pushFront(i)\n",
    "    while not deque.isEmpty():\n",
    "        print(deque.popFront())"
   ]
  },
  {
   "cell_type": "markdown",
   "id": "changing-champagne",
   "metadata": {},
   "source": [
    "### Задание 9:\n",
    "Дан текстовый файл. Используя стек, вычислить значение логического выражения, аписанного в текстовом файле в следующей форме:< ЛВ > ::= T | F | (N<ЛВ>) | (<ЛВ>A<ЛВ>) | (<ЛВ>X<ЛВ>) | (<ЛВ>O<ЛВ>),\\\n",
    "где буквами обозначены логические константы и операции:\\\n",
    "T – True, F – False, N – Not, A – And, X – Xor, O – Or"
   ]
  },
  {
   "cell_type": "markdown",
   "id": "alternative-daughter",
   "metadata": {},
   "source": [
    "### Задание 10:\n",
    "Дан текстовый файл. В текстовом файле записана формула следующего вида:\\\n",
    "<Формула> ::= <Цифра> | M(<Формула>,<Формула>) | N(Формула>,<Формула>)\\\n",
    "< Цифра > ::= 0 | 1 | 2 | 3 | 4 | 5 | 6 | 7 | 8 | 9\\\n",
    "где буквами обозначены функции:\\\n",
    "M – определение максимума, N – определение минимума.\\\n",
    "Используя стек, вычислить значение заданного выражения."
   ]
  },
  {
   "cell_type": "markdown",
   "id": "built-station",
   "metadata": {},
   "source": [
    "### Задание 11:\n",
    "Дан текстовый файл. Используя стек, проверить, является ли содержимое екстового файла правильной записью формулы вида:\n",
    "< Формула > ::= < Терм > | < Терм > + < Формула > | < Терм > - < Формула >\\\n",
    "< Терм > ::= < Имя > | (< Формула >)\\\n",
    "< Имя > ::= x | y | z"
   ]
  },
  {
   "cell_type": "code",
   "execution_count": null,
   "id": "peripheral-morrison",
   "metadata": {},
   "outputs": [],
   "source": []
  }
 ],
 "metadata": {
  "kernelspec": {
   "display_name": "Python 3",
   "language": "python",
   "name": "python3"
  },
  "language_info": {
   "codemirror_mode": {
    "name": "ipython",
    "version": 3
   },
   "file_extension": ".py",
   "mimetype": "text/x-python",
   "name": "python",
   "nbconvert_exporter": "python",
   "pygments_lexer": "ipython3",
   "version": "3.7.9"
  }
 },
 "nbformat": 4,
 "nbformat_minor": 5
}
