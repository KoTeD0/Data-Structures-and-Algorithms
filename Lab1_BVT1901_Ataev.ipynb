{
 "cells": [
  {
   "cell_type": "markdown",
   "id": "sustained-minute",
   "metadata": {},
   "source": [
    "<center><h1>Лабораторная работа №1</h1><center>"
   ]
  },
  {
   "cell_type": "markdown",
   "id": "quantitative-ridge",
   "metadata": {},
   "source": [
    "<center><h2>Выполнил студент группы БВТ1901 Атаев Реджеп, вариант 3</h2></center>"
   ]
  },
  {
   "cell_type": "markdown",
   "id": "decent-serve",
   "metadata": {},
   "source": [
    "<h3>Задание №1:</h3>\n",
    "<ol>\n",
    "<li>Создать Jupyter Notebook со следующим наименованием: Lab1_Группа_ФИО </li>\n",
    "<li>Создать новую ячейку с помощью кнопки \"+\" </li>\n",
    "<li>В созданной ячейке по указанной ниже форме заполните оглавление файла,заменив наименование группы и вписав свое ФИО, после чего создайте еще одну ячейку и напишите следующий код:</li>\n",
    "<code>print(\"Hello, World!\")</code>\n",
    "<li>С помощью кнопки \"Run\" запустите выполнение всех ячеек.</li>\n",
    "<li>После выполнения у вас должна отформатироваться ячейка с оглавлением и должен выполниться “Hello, World!” </li>\n",
    "</ol>    "
   ]
  },
  {
   "cell_type": "code",
   "execution_count": 1,
   "id": "dated-century",
   "metadata": {},
   "outputs": [
    {
     "name": "stdout",
     "output_type": "stream",
     "text": [
      "Hello, World!\n"
     ]
    }
   ],
   "source": [
    "print(\"Hello, World!\")"
   ]
  },
  {
   "cell_type": "markdown",
   "id": "alike-chosen",
   "metadata": {},
   "source": [
    "<h3>Задание №2:</h3>\n",
    "<ul>\n",
    "<li>Написать генератор случайных матриц(многомерных), который принимает\n",
    "опциональные параметры ​ m, n, min_limit, max_limit, где ​ m и ​ n указывают размер\n",
    "матрицы, а ​ min_lim ​ и max_lim - минимальное и максимальное значение для\n",
    "генерируемого числа . По умолчанию при отсутствии параметров принимать следующие\n",
    "значения:\n",
    "<li><code>m = 50</code></li>\n",
    "<li><code>n = 50</code></li>\n",
    "<li><code>min_limit = -250</code></li>\n",
    "<li><code>max_limit = 1000 + 3(номер своего варианта)</code></li>\n",
    "</ul>"
   ]
  },
  {
   "cell_type": "code",
   "execution_count": 2,
   "id": "editorial-accuracy",
   "metadata": {},
   "outputs": [],
   "source": [
    "#Importing random module\n",
    "import random"
   ]
  },
  {
   "cell_type": "code",
   "execution_count": 3,
   "id": "smoking-finish",
   "metadata": {},
   "outputs": [],
   "source": [
    "# Matrix generator function, takes number or rows(n) and columns(m)\n",
    "def matrixGenerator(n=50, m=50, range_min=-250, range_max=1003):\n",
    "    return [[random.randint(range_min, range_max) for row in range(n)] for column in range(m)]"
   ]
  },
  {
   "cell_type": "markdown",
   "id": "little-suffering",
   "metadata": {},
   "source": [
    "<h3>Задание №3</h3>\n",
    "<ul>\n",
    "<li>Реализовать методы сортировки строк числовой матрицы в соответствии с\n",
    "заданием.</li>\n",
    "<li>Оценить время работы каждого алгоритма сортировки и сравнить его со\n",
    "временем стандартной функции сортировки. Испытания проводить на сгенерированных\n",
    "матрицах.</li>\n",
    "</ul>"
   ]
  },
  {
   "cell_type": "code",
   "execution_count": 4,
   "id": "buried-crash",
   "metadata": {},
   "outputs": [],
   "source": [
    "# A wrapper function that shows us the execution time of the function\n",
    "def benchmark(func):\n",
    "    import time\n",
    "    \n",
    "    def wrapper(*args, **kwargs):\n",
    "        start = time.perf_counter()\n",
    "        return_value = func(*args, **kwargs)\n",
    "        end = time.perf_counter()\n",
    "        print(f'Execution time: {end - start}')\n",
    "        return return_value\n",
    "\n",
    "    return wrapper"
   ]
  },
  {
   "cell_type": "code",
   "execution_count": 5,
   "id": "essential-organic",
   "metadata": {},
   "outputs": [],
   "source": [
    "# File writer function, rewrites file.\n",
    "import csv\n",
    "\n",
    "def fileWriter(value):\n",
    "    with open('matrix.csv', 'w') as file:\n",
    "        csv_writer = csv.writer(file)\n",
    "        for row in value:\n",
    "            csv_writer.writerow(row)"
   ]
  },
  {
   "cell_type": "code",
   "execution_count": 6,
   "id": "conceptual-plate",
   "metadata": {},
   "outputs": [],
   "source": [
    "# Function to partition the array on the basis of pivot element\n",
    "def partition(array, low, high):\n",
    "    pivot = array[high]\n",
    "    i = low - 1\n",
    "    for j in range(low, high):\n",
    "        if array[j] <= pivot:\n",
    "            i = i + 1\n",
    "            (array[i], array[j]) = (array[j], array[i])\n",
    "    (array[i + 1], array[high]) = (array[high], array[i + 1])\n",
    "    return i + 1"
   ]
  },
  {
   "cell_type": "code",
   "execution_count": 7,
   "id": "prerequisite-choice",
   "metadata": {},
   "outputs": [],
   "source": [
    "# main QUICKSORT func that calls help func partition, takes array, + pos 0 as low, and len of array - 1 as high\n",
    "def quickSort(array, low=0, high=None):\n",
    "    if high == None:\n",
    "        high = len(array)-1\n",
    "    if low < high:\n",
    "        pi = partition(array, low, high)\n",
    "        quickSort(array, low, pi - 1)\n",
    "        quickSort(array, pi + 1, high)"
   ]
  },
  {
   "cell_type": "code",
   "execution_count": 8,
   "id": "ecological-pierre",
   "metadata": {},
   "outputs": [],
   "source": [
    "# Modified BUBBLESORT function that works a lot faster than original\n",
    "def bubbleSort(nums):\n",
    "    gap = len(nums)\n",
    "    swaps = True\n",
    "    while gap > 1 or swaps:\n",
    "        gap = max(1, int(gap / 1.25))  # minimum gap is 1\n",
    "        swaps = False\n",
    "        for i in range(len(nums) - gap):\n",
    "            j = i + gap\n",
    "            if nums[i] > nums[j]:\n",
    "                nums[i], nums[j] = nums[j], nums[i]\n",
    "                swaps = True\n",
    "    return nums"
   ]
  },
  {
   "cell_type": "code",
   "execution_count": 9,
   "id": "expected-latest",
   "metadata": {},
   "outputs": [],
   "source": [
    "#Insertion Sort\n",
    "def insertionSort(arr):\n",
    "    for i in range(1, len(arr)):\n",
    "        key = arr[i]\n",
    "        j = i-1\n",
    "        while j >=0 and key < arr[j] :\n",
    "            arr[j+1] = arr[j]\n",
    "            j -= 1\n",
    "        arr[j+1] = key "
   ]
  },
  {
   "cell_type": "code",
   "execution_count": 10,
   "id": "shaped-elephant",
   "metadata": {},
   "outputs": [],
   "source": [
    "# Default ShellSort func that takes array, and len -1\n",
    "def shellSort(array, n=None):\n",
    "    if n == None:\n",
    "        n = len(array)-1\n",
    "    # Rearrange elements at each n/2, n/4, n/8, ... intervals\n",
    "    interval = n // 2\n",
    "    while interval > 0:\n",
    "        for i in range(interval, n):\n",
    "            temp = array[i]\n",
    "            j = i\n",
    "            while j >= interval and array[j - interval] > temp:\n",
    "                array[j] = array[j - interval]\n",
    "                j -= interval\n",
    "\n",
    "            array[j] = temp\n",
    "        interval //= 2"
   ]
  },
  {
   "cell_type": "code",
   "execution_count": 11,
   "id": "dried-track",
   "metadata": {},
   "outputs": [],
   "source": [
    "#Logic of Heap Sort\n",
    "def heapify(arr, n, i):\n",
    "    # Find largest among root and children\n",
    "    largest = i\n",
    "    l = 2 * i + 1\n",
    "    r = 2 * i + 2\n",
    "    if l < n and arr[i] < arr[l]:\n",
    "        largest = l\n",
    "    if r < n and arr[largest] < arr[r]:\n",
    "        largest = r\n",
    "    # If root is not largest, swap with largest and continue heapifying\n",
    "    if largest != i:\n",
    "        arr[i], arr[largest] = arr[largest], arr[i]\n",
    "        heapify(arr, n, largest)"
   ]
  },
  {
   "cell_type": "code",
   "execution_count": 12,
   "id": "operational-filing",
   "metadata": {},
   "outputs": [],
   "source": [
    "#Heap Sort\n",
    "def heapSort(arr):\n",
    "    n = len(arr)\n",
    "    # Build max heap\n",
    "    for i in range(n // 2, -1, -1):\n",
    "        heapify(arr, n, i)\n",
    "    for i in range(n - 1, 0, -1):\n",
    "        # Swap\n",
    "        arr[i], arr[0] = arr[0], arr[i]\n",
    "        # Heapify root element\n",
    "        heapify(arr, i, 0)"
   ]
  },
  {
   "cell_type": "code",
   "execution_count": 13,
   "id": "novel-wildlife",
   "metadata": {},
   "outputs": [],
   "source": [
    "#Seleciton Sort\n",
    "def selectionSort(nums):  \n",
    "    for i in range(len(nums)):\n",
    "        lowest_value_index = i\n",
    "        for j in range(i + 1, len(nums)):\n",
    "            if nums[j] < nums[lowest_value_index]:\n",
    "                lowest_value_index = j\n",
    "        nums[i], nums[lowest_value_index] = nums[lowest_value_index], nums[i]"
   ]
  },
  {
   "cell_type": "code",
   "execution_count": 14,
   "id": "structural-membrane",
   "metadata": {},
   "outputs": [],
   "source": [
    "#Tournament Sort\n",
    "def tournamentSort(arr):\n",
    "    tree = [None] * 2 * (len(arr) + len(arr) % 2)\n",
    "    index = len(tree) - len(arr) - len(arr) % 2\n",
    "    \n",
    "    for i, v in enumerate(arr):\n",
    "        tree[index + i] = (i, v)\n",
    "    \n",
    "    for j in range(len(arr)):\n",
    "        n = len(arr)\n",
    "        index = len(tree) - len(arr) - len(arr) % 2\n",
    "        while index > -1:\n",
    "            n = (n + 1) // 2\n",
    "            for i in range(n):\n",
    "                i = max(index + i * 2, 1) # на последней итерация index + i * 2 = 0\n",
    "                if tree[i] != None and tree[i + 1] != None:\n",
    "                    if tree[i][1] < tree[i + 1][1]:\n",
    "                        tree[i // 2] = tree[i]\n",
    "                    else:\n",
    "                        tree[i // 2] = tree[i + 1]\n",
    "                else:\n",
    "                    tree[i // 2] = tree[i] if tree[i] != None else tree[i + 1]\n",
    "            index -= n\n",
    "\n",
    "        index, x = tree[0]\n",
    "        arr[j] = x\n",
    "        tree[len(tree) - len(arr) - len(arr) % 2 + index] = None"
   ]
  },
  {
   "cell_type": "code",
   "execution_count": 16,
   "id": "present-reynolds",
   "metadata": {},
   "outputs": [],
   "source": [
    "@benchmark\n",
    "def main():\n",
    "    m_h = 1000\n",
    "    m_w = 1000\n",
    "    matrix = matrixGenerator(m_h, m_w)\n",
    "    matrix_flat = []\n",
    "\n",
    "    for i in range(m_h):\n",
    "        matrix_flat += matrix[i]\n",
    "\n",
    "    \"\"\"Uncomment to make sort Work\"\"\"\n",
    "#     matrix_sorted = sorted(matrix)\n",
    "    matrix_quick = quickSort(matrix_flat,0, len(matrix_flat)-1)\n",
    "#     matrix_bubble = bubbleSort(matrix_flat)\n",
    "#     matrix_exchange = exchangeSort(matrix_flat)\n",
    "#     matrix_shell = shellSort(matrix_flat, len(matrix_flat) - 1)\n",
    "#     matrix_selection = selectionSort(matrix_flat)\n",
    "#     matrix_tournament = tournamentSort(matrix_flat)\n",
    "    \n",
    "    matrix = []\n",
    "    for i in range(0, m_h * m_w, m_w):\n",
    "        matrix += [matrix_flat[i:i + m_w]]\n",
    "\n",
    "    fileWriter(matrix)"
   ]
  },
  {
   "cell_type": "code",
   "execution_count": null,
   "id": "pursuant-honduras",
   "metadata": {},
   "outputs": [],
   "source": [
    "# def main():\n",
    "#     import time\n",
    "#     Sorts = {\n",
    "#         'Quick Sort': quickSort,\n",
    "#         'Bubble Sort': bubbleSort,\n",
    "#         'Insertion Sort': insertionSort,\n",
    "#         'Selection Sort': selectionSort,\n",
    "#         'Shell Sort': shellSort,\n",
    "#         'Heap Sort': heapSort,\n",
    "#         'Tournament Sort': tournamentSort,\n",
    "#         'Python Default Sort': sorted,\n",
    "#     }\n",
    "\n",
    "#     def print_comparison(comparison):\n",
    "#         largest_name_len = len(max(comparison.keys(), key=len))\n",
    "#         largest_name_len += 6\n",
    "\n",
    "#         heading = 'Algorithm'.ljust(largest_name_len) + 'Time'\n",
    "#         print(heading)\n",
    "#         print('-' * len(heading))\n",
    "#         for algo, time_taken in comparison.items():\n",
    "#             print(f'{algo:<{largest_name_len}}{time_taken}')\n",
    "    \n",
    "#     time_taken = {}\n",
    "#     matrix = matrixGenerator(50, 1000)\n",
    "#     for algo_name, sorter in Sorts.items():\n",
    "#         samples_copy = matrix.copy()\n",
    "#         start = time.perf_counter()\n",
    "#         for sample in samples_copy:\n",
    "#             sorter(sample)\n",
    "#         end = time.perf_counter()\n",
    "\n",
    "#         time_taken[algo_name] = (end - start) / len(matrix)\n",
    "\n",
    "#     time_taken_sorted = dict(sorted(time_taken.items(), key=lambda kv: kv[1]))\n",
    "#     print_comparison(time_taken_sorted)"
   ]
  },
  {
   "cell_type": "code",
   "execution_count": null,
   "id": "mechanical-utilization",
   "metadata": {
    "scrolled": false
   },
   "outputs": [],
   "source": [
    "if __name__ == '__main__':\n",
    "    main()"
   ]
  },
  {
   "cell_type": "markdown",
   "id": "understood-agreement",
   "metadata": {},
   "source": [
    "<h3>Задание 4</h3>\n",
    "<ul><li>Создать публичный репозиторий на github, и запушить выполненное задание в .ipynb форматеli.</li></ul>"
   ]
  },
  {
   "cell_type": "markdown",
   "id": "disturbed-bidder",
   "metadata": {},
   "source": [
    "<b>https://github.com/KoTeD0/Data-Structures-and-Algorithms</b>\n"
   ]
  },
  {
   "cell_type": "markdown",
   "id": "front-boring",
   "metadata": {},
   "source": [
    "## Вывод\n",
    "### В этой лабораторной работе мы научились реализовывать и использовать различные методы сортировок."
   ]
  }
 ],
 "metadata": {
  "kernelspec": {
   "display_name": "Python 3",
   "language": "python",
   "name": "python3"
  },
  "language_info": {
   "codemirror_mode": {
    "name": "ipython",
    "version": 3
   },
   "file_extension": ".py",
   "mimetype": "text/x-python",
   "name": "python",
   "nbconvert_exporter": "python",
   "pygments_lexer": "ipython3",
   "version": "3.7.9"
  }
 },
 "nbformat": 4,
 "nbformat_minor": 5
}
