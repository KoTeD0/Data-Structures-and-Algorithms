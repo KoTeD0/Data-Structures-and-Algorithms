{
 "cells": [
  {
   "cell_type": "markdown",
   "id": "ahead-fitting",
   "metadata": {},
   "source": [
    "<center><h1>Лабораторная работа 2. Методы поиска</h1></center>"
   ]
  },
  {
   "cell_type": "markdown",
   "id": "unlike-editing",
   "metadata": {},
   "source": [
    "<center><h2>Выполнил студент группы БВТ1901 Атаев Реджеп, вариант №3</h2></center>"
   ]
  },
  {
   "cell_type": "markdown",
   "id": "still-halifax",
   "metadata": {},
   "source": [
    "<h3><b>Задание №1:</b></h3>\n",
    "<ul>\n",
    "    <li>Бинарный поиск</li>\n",
    "    <li>Бинарное дерево</li>\n",
    "    <li>Фибоначчиев поиск</li>\n",
    "    <li>Интерполяционный поиск</li>\n",
    "</ul>"
   ]
  },
  {
   "cell_type": "code",
   "execution_count": 2,
   "id": "sorted-things",
   "metadata": {},
   "outputs": [],
   "source": [
    "import random"
   ]
  },
  {
   "cell_type": "code",
   "execution_count": 3,
   "id": "peripheral-mexico",
   "metadata": {},
   "outputs": [],
   "source": [
    "def create_array(size = 100, range_min = -100, range_max = 100):\n",
    "    return [random.randint(range_min, range_max) for element in range(size)]"
   ]
  },
  {
   "cell_type": "code",
   "execution_count": 4,
   "id": "still-modeling",
   "metadata": {},
   "outputs": [],
   "source": [
    "def binarySearch(array, key, low, high):\n",
    "    if low > high:\n",
    "        return -1\n",
    "\n",
    "    mid = low + (high - low) // 2\n",
    "\n",
    "    if key < array[mid]:\n",
    "        return binarySearch(array, key, low, mid-1)\n",
    "    elif key > array[mid]:\n",
    "        return binarySearch(array, key, mid+1, high)\n",
    "    else:\n",
    "        return mid.__index__()"
   ]
  },
  {
   "cell_type": "code",
   "execution_count": 5,
   "id": "geological-terrorist",
   "metadata": {},
   "outputs": [],
   "source": [
    "def interpSort(array, key, low, high):\n",
    "    if (low <= high and key >= array[low] and key <= array[high]):\n",
    "    # pos = lo + [ (x-arr[lo])*(hi-lo) / (arr[hi]-arr[Lo]) ]\n",
    "        pos = (low + (key-array[low])*(high-low) // (array[high]-array[low]))\n",
    "        if key > array[pos]:\n",
    "            return interpSort(array, key, pos+1, high)\n",
    "        elif key < array[pos]:\n",
    "            return interpSort(array, key, low, pos-1)\n",
    "        else:\n",
    "            return pos.__index__()\n",
    "    return -1"
   ]
  },
  {
   "cell_type": "code",
   "execution_count": 6,
   "id": "innocent-manitoba",
   "metadata": {},
   "outputs": [],
   "source": [
    "def fibonacciSearch(array, key):\n",
    "    fibM_minus_2 = 0\n",
    "    fibM_minus_1 = 1\n",
    "    fibM = fibM_minus_1 + fibM_minus_2\n",
    "    while (fibM < len(array)):\n",
    "        fibM_minus_2 = fibM_minus_1\n",
    "        fibM_minus_1 = fibM\n",
    "        fibM = fibM_minus_1 + fibM_minus_2\n",
    "    index = -1;\n",
    "    while (fibM > 1):\n",
    "        i = min(index + fibM_minus_2, (len(array)-1))\n",
    "        if (array[i] < key):\n",
    "            fibM = fibM_minus_1\n",
    "            fibM_minus_1 = fibM_minus_2\n",
    "            fibM_minus_2 = fibM - fibM_minus_1\n",
    "            index = i\n",
    "        elif (array[i] > key):\n",
    "            fibM = fibM_minus_2\n",
    "            fibM_minus_1 = fibM_minus_1 - fibM_minus_2\n",
    "            fibM_minus_2 = fibM - fibM_minus_1\n",
    "        else :\n",
    "            return i\n",
    "    if(fibM_minus_1 and index < (len(array)-1) and array[index+1] == key):\n",
    "        return index+1\n",
    "    return -1"
   ]
  },
  {
   "cell_type": "code",
   "execution_count": 7,
   "id": "banner-squad",
   "metadata": {},
   "outputs": [],
   "source": [
    "class BinaryTreeSearch:\n",
    "\n",
    "    def __init__(self, data):\n",
    "\n",
    "        self.left = None\n",
    "        self.right = None\n",
    "        self.data = data\n",
    "\n",
    "# Insert method to create nodes\n",
    "    def insert(self, data):\n",
    "\n",
    "        if self.data:\n",
    "            if data < self.data:\n",
    "                if self.left is None:\n",
    "                    self.left = BinaryTreeSearch(data)\n",
    "                else:\n",
    "                    self.left.insert(data)\n",
    "            elif data > self.data:\n",
    "                if self.right is None:\n",
    "                    self.right = BinaryTreeSearch(data)\n",
    "                else:\n",
    "                    self.right.insert(data)\n",
    "        else:\n",
    "            self.data = data\n",
    "# findval method to compare the value with nodes\n",
    "    def findval(self, lkpval):\n",
    "        if lkpval < self.data:\n",
    "            if self.left is None:\n",
    "                return str(lkpval)+\" Not Found\"\n",
    "            return self.left.findval(lkpval)\n",
    "        elif lkpval > self.data:\n",
    "            if self.right is None:\n",
    "                return str(lkpval)+\" Not Found\"\n",
    "            return self.right.findval(lkpval)\n",
    "        else:\n",
    "            return str(self.data) + ' is found'\n",
    "# Print the tree\n",
    "    def printTree(self):\n",
    "        if self.left:\n",
    "            self.left.PrintTree()\n",
    "        print( self.data),\n",
    "        if self.right:\n",
    "            self.right.PrintTree()"
   ]
  },
  {
   "cell_type": "code",
   "execution_count": 8,
   "id": "increased-friday",
   "metadata": {},
   "outputs": [],
   "source": [
    "def callInterp(array):\n",
    "    sortedArray = sorted(array)\n",
    "    print(interpSort(sortedArray,random.randint(-100,100), 0, len(sortedArray)-1, ))"
   ]
  },
  {
   "cell_type": "code",
   "execution_count": 9,
   "id": "liable-consistency",
   "metadata": {},
   "outputs": [],
   "source": [
    "def callTree():\n",
    "    root = BinaryTreeSearch(12)\n",
    "    for i in range(100):\n",
    "        root.insert(random.randint(-100, 100))\n",
    "    print(root.findval(random.randint(-100,100)))"
   ]
  },
  {
   "cell_type": "code",
   "execution_count": 10,
   "id": "narrow-twenty",
   "metadata": {},
   "outputs": [],
   "source": [
    "def callBinary(array):\n",
    "    sortedArray = sorted(array)\n",
    "    print(f\"Index of key is {binarySearch(sortedArray, random.randint(-100,100), 0, len(sortedArray) - 1)}\")"
   ]
  },
  {
   "cell_type": "code",
   "execution_count": 11,
   "id": "featured-camcorder",
   "metadata": {},
   "outputs": [],
   "source": [
    "def callFibo(array):\n",
    "    sortedArray = sorted(array)\n",
    "    print(fibonacciSearch(sortedArray, random.randint(-100,100)))"
   ]
  },
  {
   "cell_type": "code",
   "execution_count": 12,
   "id": "available-vietnamese",
   "metadata": {},
   "outputs": [],
   "source": [
    "def mainSearch():\n",
    "    \"\"\"when any function return -1 it means that key we put isnt found\"\"\"\n",
    "    array = create_array()\n",
    "    # callBinary(array)\n",
    "    # callTree()\n",
    "    # callFibo(array)\n",
    "    # callInterp(array)"
   ]
  },
  {
   "cell_type": "markdown",
   "id": "smooth-control",
   "metadata": {},
   "source": [
    "<h3><b>Задание №2:</b></h3>\n",
    "<ul>\n",
    "    <li>Простое Рехеширование</li>\n",
    "    <li>Рехеширование с помощью псевдослучайных чисел</li>\n",
    "    <li>Метод цепочек</li>\n",
    "</ul>"
   ]
  },
  {
   "cell_type": "code",
   "execution_count": null,
   "id": "descending-headset",
   "metadata": {},
   "outputs": [],
   "source": [
    "class HashTable:\n",
    "    def __init__(self, size):\n",
    "        self.size = size\n",
    "        self.key = [None] * size\n",
    "        self.value = [None] * size\n",
    "\n",
    "    def _getHash(self, value):\n",
    "        toHash = 0\n",
    "        if isinstance(value, str):\n",
    "            for letter in value:\n",
    "                toHash += ord(letter)**2\n",
    "        else:\n",
    "            for digit in str(value):\n",
    "                toHash += int(digit)**2\n",
    "        return toHash % self.size\n",
    "\n",
    "    def _putData(self, value):\n",
    "        hashedValue = self._getHash(value)\n",
    "        if self.key[hashedValue] is None:\n",
    "            self.key[hashedValue] = hashedValue\n",
    "            self.value[hashedValue] = value\n",
    "        else:\n",
    "            try:\n",
    "                while self.key[hashedValue] is not None:\n",
    "                    hashedValue = hashedValue + 1\n",
    "                    if self.key[hashedValue] is None:\n",
    "                        self.key[hashedValue] = hashedValue\n",
    "                        self.value[hashedValue] = value\n",
    "                        break\n",
    "            except KeyError as KE:\n",
    "                print(\"Key Error \", KE)\n",
    "\n",
    "    def _searchData(self, value):\n",
    "        hashedValue = self._getHash(value)\n",
    "        while self.value[hashedValue] != value or self.value[hashedValue] is not None:\n",
    "            hashedValue += 1\n",
    "            if self.value[hashedValue] == value:\n",
    "                print(self.key[hashedValue], self.value[hashedValue])\n",
    "                break\n",
    "        raise KeyError()"
   ]
  },
  {
   "cell_type": "code",
   "execution_count": null,
   "id": "developing-married",
   "metadata": {},
   "outputs": [],
   "source": [
    "class RandHashTable:\n",
    "    def __init__(self, size):\n",
    "        self.size = size\n",
    "        self.key = [None] * size\n",
    "        self.value = [None] * size\n",
    "        self.seeds = []\n",
    "\n",
    "    def _getHash(self, value):\n",
    "        toHash = 0\n",
    "        if isinstance(value, str):\n",
    "            for letter in value:\n",
    "                toHash += ord(letter) ** 2\n",
    "        else:\n",
    "            for digit in str(value):\n",
    "                toHash += int(digit) ** 2\n",
    "        i = random.randint(0, self.size)\n",
    "        self.seeds.append(i)\n",
    "        return (toHash + i) % self.size\n",
    "\n",
    "    def _getSearchHash(self, value, rand):\n",
    "        toHash = 0\n",
    "        if isinstance(value, str):\n",
    "            for letter in value:\n",
    "                toHash += ord(letter) ** 2\n",
    "        else:\n",
    "            for digit in str(value):\n",
    "                toHash += int(digit) ** 2\n",
    "        return (toHash + rand) % self.size\n",
    "\n",
    "    def putData(self, value):\n",
    "        hashedValue = self._getHash(value)\n",
    "        if self.key[hashedValue] is None:\n",
    "            self.key[hashedValue] = hashedValue\n",
    "            self.value[hashedValue] = value\n",
    "        else:\n",
    "            self.putData(value)\n",
    "\n",
    "    def searchData(self, value):\n",
    "        for i in self.seeds:\n",
    "            SearchHash = self._getSearchHash(value, i)\n",
    "            if self.value[SearchHash] == value:\n",
    "                return self.key[SearchHash], self.value[SearchHash]"
   ]
  },
  {
   "cell_type": "code",
   "execution_count": null,
   "id": "republican-evening",
   "metadata": {},
   "outputs": [],
   "source": [
    "class LinkedHash:\n",
    "    def __init__(self, size):\n",
    "        self.size = size\n",
    "        self.key = [None] * size\n",
    "        self.value = [[] for _ in range(self.size)]\n",
    "\n",
    "    def _getHash(self, value):\n",
    "        toHash = 0\n",
    "        if isinstance(value, str):\n",
    "            for letter in value:\n",
    "                toHash += ord(letter) ** 2\n",
    "        else:\n",
    "            for digit in str(value):\n",
    "                toHash += int(digit) ** 2\n",
    "        return toHash % self.size\n",
    "\n",
    "    def _putData(self, value):\n",
    "        hashedValue = self.getHash(value)\n",
    "        self.key[hashedValue] = hashedValue\n",
    "        self.value[hashedValue].append(value)\n",
    "\n",
    "    def _searchData(self, value):\n",
    "        hashedValue = self.getHash(value)\n",
    "        for i in self.value[hashedValue]:\n",
    "            if i == value:\n",
    "                return self.key[hashedValue], self.value[hashedValue]\n",
    "        raise KeyError()"
   ]
  },
  {
   "cell_type": "markdown",
   "id": "convertible-mathematics",
   "metadata": {},
   "source": [
    "<h3><b>Задание №3:</b></h3>\n",
    "Расставить на стандартной 64-клеточной шахматной доске 8 ферзей так чтобы ни один из них не находился под боем другого.\n",
    "Подразумевается что ферзь бьёт все клетки расположенные по вертикалям, горизонталям и обеим диагоналям.\n",
    "<ul><li>Написать программу, которая находит хотя бы один способ решения задач.</li><ul>"
   ]
  },
  {
   "cell_type": "code",
   "execution_count": 13,
   "id": "acceptable-concord",
   "metadata": {},
   "outputs": [],
   "source": [
    "import numpy as np"
   ]
  },
  {
   "cell_type": "code",
   "execution_count": 14,
   "id": "automated-administrator",
   "metadata": {},
   "outputs": [],
   "source": [
    "# takes coordinates and checks all axes for the attack of other queens\n",
    "def can_stand(row, pos, board):\n",
    "    test_field = board.copy()\n",
    "    test_field[row][pos] = True\n",
    "    for i in range(len(test_field)):\n",
    "        if np.sum(np.diagonal(test_field, i)) > 1:\n",
    "            return False\n",
    "        if np.sum(np.diagonal(test_field, -i)) > 1:\n",
    "            return False\n",
    "        if np.sum(np.diagonal(np.rot90(test_field), i)) > 1:\n",
    "            return False\n",
    "        if np.sum(np.diagonal(np.rot90(test_field), -i)) > 1:\n",
    "            return False\n",
    "    return True"
   ]
  },
  {
   "cell_type": "code",
   "execution_count": 15,
   "id": "quiet-settlement",
   "metadata": {},
   "outputs": [],
   "source": [
    "def queens(size):\n",
    "    CASES = []\n",
    "    s = []\n",
    "    s1 = []\n",
    "    if size == 3:\n",
    "        return\n",
    "    number_of_cases = {4: 2, 5: 10, 6: 4, 7: 40, 8: 92, 9: 352, 10: 724}\n",
    "    board = np.zeros((size, size), dtype='bool_')\n",
    "    while len(CASES) < number_of_cases.get(size):\n",
    "        for i in range(size):\n",
    "            s.clear()\n",
    "            s1.clear()\n",
    "            pos = np.random.randint(0, size)\n",
    "            while pos in s:\n",
    "                pos = np.random.randint(0, size)\n",
    "            s.append(pos)\n",
    "            count = 1\n",
    "            while np.any(board[:, pos]) or not can_stand(i, pos, board):\n",
    "                pos = np.random.randint(0, size)\n",
    "                while pos in s1:\n",
    "                    pos = np.random.randint(0, size)\n",
    "                s1.append(pos)\n",
    "                count += 1\n",
    "                if count == size:\n",
    "                    count = False\n",
    "                    break\n",
    "            if not count:\n",
    "                break\n",
    "            board[i][pos] = True\n",
    "        text = ''.join([str(j + 1) for i in board for j in range(len(i)) if i[j]])\n",
    "        if text not in CASES and len(text) == size:\n",
    "            CASES.append(text)\n",
    "            break\n",
    "        board = np.zeros((size, size), dtype='int8')\n",
    "    for i in sorted(CASES):\n",
    "        print(i)"
   ]
  },
  {
   "cell_type": "code",
   "execution_count": 16,
   "id": "hourly-senator",
   "metadata": {
    "scrolled": true
   },
   "outputs": [
    {
     "name": "stdout",
     "output_type": "stream",
     "text": [
      "63724815\n"
     ]
    }
   ],
   "source": [
    "queens(8)"
   ]
  }
 ],
 "metadata": {
  "kernelspec": {
   "display_name": "Python 3",
   "language": "python",
   "name": "python3"
  },
  "language_info": {
   "codemirror_mode": {
    "name": "ipython",
    "version": 3
   },
   "file_extension": ".py",
   "mimetype": "text/x-python",
   "name": "python",
   "nbconvert_exporter": "python",
   "pygments_lexer": "ipython3",
   "version": "3.7.9"
  }
 },
 "nbformat": 4,
 "nbformat_minor": 5
}
