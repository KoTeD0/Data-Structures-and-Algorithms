{
 "cells": [
  {
   "cell_type": "markdown",
   "id": "ahead-fitting",
   "metadata": {},
   "source": [
    "<center><h1>Лабораторная работа 2. Методы поиска</h1></center>"
   ]
  },
  {
   "cell_type": "markdown",
   "id": "unlike-editing",
   "metadata": {},
   "source": [
    "<center><h2>Выполнил студент группы БВТ1901 Атаев Реджеп, вариант №3</h2></center>"
   ]
  },
  {
   "cell_type": "markdown",
   "id": "still-halifax",
   "metadata": {},
   "source": [
    "<h3><b>Задание №1:</b></h3>\n",
    "<ul>\n",
    "    <li>Бинарный поиск</li>\n",
    "    <li>Бинарное дерево</li>\n",
    "    <li>Фибоначчиев поиск</li>\n",
    "    <li>Интерполяционный поиск</li>\n",
    "</ul>"
   ]
  },
  {
   "cell_type": "code",
   "execution_count": 12,
   "id": "sorted-things",
   "metadata": {},
   "outputs": [],
   "source": [
    "import random"
   ]
  },
  {
   "cell_type": "code",
   "execution_count": 13,
   "id": "peripheral-mexico",
   "metadata": {},
   "outputs": [],
   "source": [
    "def create_array(size = 100, range_min = -100, range_max = 100):\n",
    "    return [random.randint(range_min, range_max) for element in range(size)]"
   ]
  },
  {
   "cell_type": "code",
   "execution_count": 14,
   "id": "still-modeling",
   "metadata": {},
   "outputs": [],
   "source": [
    "def binarySearch(array, key, low, high):\n",
    "    if low > high:\n",
    "        return -1\n",
    "\n",
    "    mid = low + (high - low) // 2\n",
    "\n",
    "    if key < array[mid]:\n",
    "        return binarySearch(array, key, low, mid-1)\n",
    "    elif key > array[mid]:\n",
    "        return binarySearch(array, key, mid+1, high)\n",
    "    else:\n",
    "        return mid.__index__()"
   ]
  },
  {
   "cell_type": "code",
   "execution_count": 15,
   "id": "geological-terrorist",
   "metadata": {},
   "outputs": [],
   "source": [
    "def interpSort(array, key, low, high):\n",
    "    if (low <= high and key >= array[low] and key <= array[high]):\n",
    "    # pos = lo + [ (x-arr[lo])*(hi-lo) / (arr[hi]-arr[Lo]) ]\n",
    "        pos = (low + (key-array[low])*(high-low) // (array[high]-array[low]))\n",
    "        if key > array[pos]:\n",
    "            return interpSort(array, key, pos+1, high)\n",
    "        elif key < array[pos]:\n",
    "            return interpSort(array, key, low, pos-1)\n",
    "        else:\n",
    "            return pos.__index__()\n",
    "    return -1"
   ]
  },
  {
   "cell_type": "code",
   "execution_count": 16,
   "id": "innocent-manitoba",
   "metadata": {},
   "outputs": [],
   "source": [
    "def fibonacciSearch(array, key):\n",
    "    fibM_minus_2 = 0\n",
    "    fibM_minus_1 = 1\n",
    "    fibM = fibM_minus_1 + fibM_minus_2\n",
    "    while (fibM < len(array)):\n",
    "        fibM_minus_2 = fibM_minus_1\n",
    "        fibM_minus_1 = fibM\n",
    "        fibM = fibM_minus_1 + fibM_minus_2\n",
    "    index = -1;\n",
    "    while (fibM > 1):\n",
    "        i = min(index + fibM_minus_2, (len(array)-1))\n",
    "        if (array[i] < key):\n",
    "            fibM = fibM_minus_1\n",
    "            fibM_minus_1 = fibM_minus_2\n",
    "            fibM_minus_2 = fibM - fibM_minus_1\n",
    "            index = i\n",
    "        elif (array[i] > key):\n",
    "            fibM = fibM_minus_2\n",
    "            fibM_minus_1 = fibM_minus_1 - fibM_minus_2\n",
    "            fibM_minus_2 = fibM - fibM_minus_1\n",
    "        else :\n",
    "            return i\n",
    "    if(fibM_minus_1 and index < (len(array)-1) and array[index+1] == key):\n",
    "        return index+1\n",
    "    return -1"
   ]
  },
  {
   "cell_type": "code",
   "execution_count": 17,
   "id": "banner-squad",
   "metadata": {},
   "outputs": [],
   "source": [
    "class BinaryTreeSearch:\n",
    "\n",
    "    def __init__(self, data):\n",
    "\n",
    "        self.left = None\n",
    "        self.right = None\n",
    "        self.data = data\n",
    "\n",
    "# Insert method to create nodes\n",
    "    def insert(self, data):\n",
    "\n",
    "        if self.data:\n",
    "            if data < self.data:\n",
    "                if self.left is None:\n",
    "                    self.left = BinaryTreeSearch(data)\n",
    "                else:\n",
    "                    self.left.insert(data)\n",
    "            elif data > self.data:\n",
    "                if self.right is None:\n",
    "                    self.right = BinaryTreeSearch(data)\n",
    "                else:\n",
    "                    self.right.insert(data)\n",
    "        else:\n",
    "            self.data = data\n",
    "# findval method to compare the value with nodes\n",
    "    def findval(self, lkpval):\n",
    "        if lkpval < self.data:\n",
    "            if self.left is None:\n",
    "                return str(lkpval)+\" Not Found\"\n",
    "            return self.left.findval(lkpval)\n",
    "        elif lkpval > self.data:\n",
    "            if self.right is None:\n",
    "                return str(lkpval)+\" Not Found\"\n",
    "            return self.right.findval(lkpval)\n",
    "        else:\n",
    "            return str(self.data) + ' is found'\n",
    "# Print the tree\n",
    "    def printTree(self):\n",
    "        if self.left:\n",
    "            self.left.PrintTree()\n",
    "        print( self.data),\n",
    "        if self.right:\n",
    "            self.right.PrintTree()"
   ]
  },
  {
   "cell_type": "code",
   "execution_count": 18,
   "id": "increased-friday",
   "metadata": {},
   "outputs": [],
   "source": [
    "def callInterp(array):\n",
    "    sortedArray = sorted(array)\n",
    "    print(interpSort(sortedArray,random.randint(-100,100), 0, len(sortedArray)-1, ))"
   ]
  },
  {
   "cell_type": "code",
   "execution_count": 19,
   "id": "liable-consistency",
   "metadata": {},
   "outputs": [],
   "source": [
    "def callTree():\n",
    "    root = BinaryTreeSearch(12)\n",
    "    for i in range(100):\n",
    "        root.insert(random.randint(-100, 100))\n",
    "    print(root.findval(random.randint(-100,100)))"
   ]
  },
  {
   "cell_type": "code",
   "execution_count": 20,
   "id": "narrow-twenty",
   "metadata": {},
   "outputs": [],
   "source": [
    "def callBinary(array):\n",
    "    sortedArray = sorted(array)\n",
    "    print(f\"Index of key is {binarySearch(sortedArray, random.randint(-100,100), 0, len(sortedArray) - 1)}\")"
   ]
  },
  {
   "cell_type": "code",
   "execution_count": 21,
   "id": "featured-camcorder",
   "metadata": {},
   "outputs": [],
   "source": [
    "def callFibo(array):\n",
    "    sortedArray = sorted(array)\n",
    "    print(fibonacciSearch(sortedArray, random.randint(-100,100)))"
   ]
  },
  {
   "cell_type": "code",
   "execution_count": 22,
   "id": "available-vietnamese",
   "metadata": {},
   "outputs": [],
   "source": [
    "def main():\n",
    "    \"\"\"when any function return -1 it means that key we put isnt found\"\"\"\n",
    "    array = create_array()\n",
    "    # callBinary(array)\n",
    "    # callTree()\n",
    "    # callFibo(array)\n",
    "    # callInterp(array)"
   ]
  },
  {
   "cell_type": "code",
   "execution_count": 23,
   "id": "direct-rider",
   "metadata": {},
   "outputs": [],
   "source": [
    "if __name__ == '__main__':\n",
    "    main()"
   ]
  },
  {
   "cell_type": "markdown",
   "id": "smooth-control",
   "metadata": {},
   "source": [
    "<h3><b>Задание №2:</b></h3>\n",
    "<ul>\n",
    "    <li>Простое Рехеширование</li>\n",
    "    <li>Рехеширование с помощью псевдослучайных чисел</li>\n",
    "    <li>Метод цепочек</li>\n",
    "</ul>"
   ]
  },
  {
   "cell_type": "code",
   "execution_count": null,
   "id": "descending-headset",
   "metadata": {},
   "outputs": [],
   "source": []
  },
  {
   "cell_type": "code",
   "execution_count": null,
   "id": "developing-married",
   "metadata": {},
   "outputs": [],
   "source": []
  },
  {
   "cell_type": "markdown",
   "id": "convertible-mathematics",
   "metadata": {},
   "source": [
    "<h3><b>Задание №3:</b></h3>\n",
    "Расставить на стандартной 64-клеточной шахматной доске 8 ферзей так чтобы ни один из них не находился под боем другого.\n",
    "Подразумевается что ферзь бьёт все клетки расположенные по вертикалям, горизонталям и обеим диагоналям.\n",
    "<ul><li>Написать программу, которая находит хотя бы один способ решения задач.</li><ul>"
   ]
  },
  {
   "cell_type": "code",
   "execution_count": null,
   "id": "acceptable-concord",
   "metadata": {},
   "outputs": [],
   "source": []
  },
  {
   "cell_type": "code",
   "execution_count": null,
   "id": "automated-administrator",
   "metadata": {},
   "outputs": [],
   "source": []
  }
 ],
 "metadata": {
  "kernelspec": {
   "display_name": "Python 3",
   "language": "python",
   "name": "python3"
  },
  "language_info": {
   "codemirror_mode": {
    "name": "ipython",
    "version": 3
   },
   "file_extension": ".py",
   "mimetype": "text/x-python",
   "name": "python",
   "nbconvert_exporter": "python",
   "pygments_lexer": "ipython3",
   "version": "3.7.9"
  }
 },
 "nbformat": 4,
 "nbformat_minor": 5
}
