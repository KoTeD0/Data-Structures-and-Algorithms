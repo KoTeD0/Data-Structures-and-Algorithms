{
 "cells": [
  {
   "cell_type": "code",
   "execution_count": null,
   "id": "pursuant-lyric",
   "metadata": {},
   "outputs": [],
   "source": [
    "Лабораторная работа №1 "
   ]
  },
  {
   "cell_type": "markdown",
   "id": "southern-anderson",
   "metadata": {},
   "source": [
    "Скрипт для генерации рандомного массива и с последующей сортировкой и записью в файл."
   ]
  },
  {
   "cell_type": "markdown",
   "id": "determined-backup",
   "metadata": {},
   "source": [
    "Импортируем модули."
   ]
  },
  {
   "cell_type": "code",
   "execution_count": null,
   "id": "editorial-accuracy",
   "metadata": {},
   "outputs": [],
   "source": [
    "import time\n",
    "import csv\n",
    "import random"
   ]
  },
  {
   "cell_type": "markdown",
   "id": "parliamentary-stock",
   "metadata": {},
   "source": [
    "Оберточная функция для вычисления времени выполнения полностью всех функций."
   ]
  },
  {
   "cell_type": "code",
   "execution_count": null,
   "id": "buried-crash",
   "metadata": {},
   "outputs": [],
   "source": [
    "# A wrapper function that shows us the execution time of the function\n",
    "def benchmark(func):\n",
    "    def wrapper(*args, **kwargs):\n",
    "        start = time.time()\n",
    "        return_value = func(*args, **kwargs)\n",
    "        end = time.time()\n",
    "        print(f'Execution time: {end - start}')\n",
    "        return return_value\n",
    "\n",
    "    return wrapper"
   ]
  },
  {
   "cell_type": "markdown",
   "id": "searching-effects",
   "metadata": {},
   "source": [
    "Функция для записи отсортированного массива в файл с расширением .csv , при этом файл будет перезаписан."
   ]
  },
  {
   "cell_type": "code",
   "execution_count": null,
   "id": "essential-organic",
   "metadata": {},
   "outputs": [],
   "source": [
    "# File writer function, rewrites file.\n",
    "def fileWriter(value):\n",
    "    with open('matrix.csv', 'w') as file:\n",
    "        csv_writer = csv.writer(file)\n",
    "        for row in value:\n",
    "            csv_writer.writerow(row)"
   ]
  },
  {
   "cell_type": "markdown",
   "id": "frank-gauge",
   "metadata": {},
   "source": [
    "Функция Генерации 2D матрицы NxM."
   ]
  },
  {
   "cell_type": "code",
   "execution_count": null,
   "id": "nearby-cameroon",
   "metadata": {},
   "outputs": [],
   "source": [
    "# Matrix generator function, takes number or rows(n) and columns(m)\n",
    "def matrixGenerator(n, m, range_min=-5000, range_max=5000):\n",
    "    return [[random.randint(range_min, range_max) for row in range(n)] for column in range(m)]"
   ]
  },
  {
   "cell_type": "markdown",
   "id": "bright-merchant",
   "metadata": {},
   "source": [
    "Модуль сегментации для быстрой сортировки."
   ]
  },
  {
   "cell_type": "code",
   "execution_count": null,
   "id": "conceptual-plate",
   "metadata": {},
   "outputs": [],
   "source": [
    "# Function to partition the array on the basis of pivot element\n",
    "def partition(array, low, high):\n",
    "    pivot = array[high]\n",
    "    i = low - 1\n",
    "    for j in range(low, high):\n",
    "        if array[j] <= pivot:\n",
    "            i = i + 1\n",
    "            (array[i], array[j]) = (array[j], array[i])\n",
    "    (array[i + 1], array[high]) = (array[high], array[i + 1])\n",
    "    return i + 1"
   ]
  },
  {
   "cell_type": "markdown",
   "id": "sitting-timothy",
   "metadata": {},
   "source": [
    "Основная функция быстрой сортировки."
   ]
  },
  {
   "cell_type": "code",
   "execution_count": null,
   "id": "prerequisite-choice",
   "metadata": {},
   "outputs": [],
   "source": [
    "# main quicksort func that calls help func partition, takes array, + pos 0 as low, and len of array - 1 as high\n",
    "def quickSort(array, low, high):\n",
    "    if low < high:\n",
    "        pi = partition(array, low, high)\n",
    "        quickSort(array, low, pi - 1)\n",
    "        quickSort(array, pi + 1, high)"
   ]
  },
  {
   "cell_type": "markdown",
   "id": "synthetic-usage",
   "metadata": {},
   "source": [
    "Функция сортировки пузырьком, сильно оптимизирована."
   ]
  },
  {
   "cell_type": "code",
   "execution_count": null,
   "id": "ecological-pierre",
   "metadata": {},
   "outputs": [],
   "source": [
    "# Modified bublesort function that works a lot faster than original\n",
    "def bubbleSort(nums):\n",
    "    gap = len(nums)\n",
    "    swaps = True\n",
    "    while gap > 1 or swaps:\n",
    "        gap = max(1, int(gap / 1.25))  # minimum gap is 1\n",
    "        swaps = False\n",
    "        for i in range(len(nums) - gap):\n",
    "            j = i + gap\n",
    "            if nums[i] > nums[j]:\n",
    "                nums[i], nums[j] = nums[j], nums[i]\n",
    "                swaps = True\n",
    "    return nums"
   ]
  },
  {
   "cell_type": "markdown",
   "id": "organizational-nevada",
   "metadata": {},
   "source": [
    "Сортировка вставкой"
   ]
  },
  {
   "cell_type": "code",
   "execution_count": null,
   "id": "expected-latest",
   "metadata": {},
   "outputs": [],
   "source": [
    "def insertion_sort(arr):\n",
    "    for i in range(1, len(arr)):\n",
    "        key = arr[i]\n",
    "        j = i-1\n",
    "        while j >=0 and key < arr[j] :\n",
    "            arr[j+1] = arr[j]\n",
    "            j -= 1\n",
    "        arr[j+1] = key "
   ]
  },
  {
   "cell_type": "markdown",
   "id": "textile-rainbow",
   "metadata": {},
   "source": [
    "Алгоритм сортировки Шелла, один из видов сортировки вставкой."
   ]
  },
  {
   "cell_type": "code",
   "execution_count": null,
   "id": "shaped-elephant",
   "metadata": {},
   "outputs": [],
   "source": [
    "# Default ShellSort func that takes array, and len -1\n",
    "def shellSort(array, n):\n",
    "    # Rearrange elements at each n/2, n/4, n/8, ... intervals\n",
    "    interval = n // 2\n",
    "    while interval > 0:\n",
    "        for i in range(interval, n):\n",
    "            temp = array[i]\n",
    "            j = i\n",
    "            while j >= interval and array[j - interval] > temp:\n",
    "                array[j] = array[j - interval]\n",
    "                j -= interval\n",
    "\n",
    "            array[j] = temp\n",
    "        interval //= 2"
   ]
  },
  {
   "cell_type": "markdown",
   "id": "alternative-reaction",
   "metadata": {},
   "source": [
    "Логическая функция пирамидальной сортировки."
   ]
  },
  {
   "cell_type": "code",
   "execution_count": null,
   "id": "dried-track",
   "metadata": {},
   "outputs": [],
   "source": [
    "def heapify(arr, n, i):\n",
    "    # Find largest among root and children\n",
    "    largest = i\n",
    "    l = 2 * i + 1\n",
    "    r = 2 * i + 2\n",
    "    if l < n and arr[i] < arr[l]:\n",
    "        largest = l\n",
    "    if r < n and arr[largest] < arr[r]:\n",
    "        largest = r\n",
    "    # If root is not largest, swap with largest and continue heapifying\n",
    "    if largest != i:\n",
    "        arr[i], arr[largest] = arr[largest], arr[i]\n",
    "        heapify(arr, n, largest)"
   ]
  },
  {
   "cell_type": "markdown",
   "id": "scheduled-loading",
   "metadata": {},
   "source": [
    "Основная функция Пирамидальной сортировки."
   ]
  },
  {
   "cell_type": "code",
   "execution_count": null,
   "id": "operational-filing",
   "metadata": {},
   "outputs": [],
   "source": [
    "def heapSort(arr):\n",
    "    n = len(arr)\n",
    "    # Build max heap\n",
    "    for i in range(n // 2, -1, -1):\n",
    "        heapify(arr, n, i)\n",
    "    for i in range(n - 1, 0, -1):\n",
    "        # Swap\n",
    "        arr[i], arr[0] = arr[0], arr[i]\n",
    "        # Heapify root element\n",
    "        heapify(arr, i, 0)"
   ]
  },
  {
   "cell_type": "markdown",
   "id": "honest-language",
   "metadata": {},
   "source": [
    "Сортировка выбором"
   ]
  },
  {
   "cell_type": "code",
   "execution_count": null,
   "id": "novel-wildlife",
   "metadata": {},
   "outputs": [],
   "source": [
    "def selection_sort(nums):  \n",
    "    for i in range(len(nums)):\n",
    "        lowest_value_index = i\n",
    "        for j in range(i + 1, len(nums)):\n",
    "            if nums[j] < nums[lowest_value_index]:\n",
    "                lowest_value_index = j\n",
    "        nums[i], nums[lowest_value_index] = nums[lowest_value_index], nums[i]"
   ]
  },
  {
   "cell_type": "markdown",
   "id": "statistical-blast",
   "metadata": {},
   "source": [
    "Функция что будет запущена при запуске алгоритма."
   ]
  },
  {
   "cell_type": "code",
   "execution_count": null,
   "id": "present-reynolds",
   "metadata": {},
   "outputs": [],
   "source": [
    "@benchmark\n",
    "def main():\n",
    "    m_h = 1000\n",
    "    m_w = 1000\n",
    "    matrix = matrixGenerator(m_h, m_w)\n",
    "    matrix_flat = []\n",
    "\n",
    "    for i in range(m_h):\n",
    "        matrix_flat += matrix[i]\n",
    "\n",
    "    # uncomment to make sort.\n",
    "    matrix_sorted = sorted(matrix)\n",
    "    # matrix_quick = quickSort(matrix_flat,0, len(matrix_flat)-1)\n",
    "    # matrix_bubble = bubbleSort(matrix_flat)\n",
    "    # matrix_exchange = exchangeSort(matrix_flat)\n",
    "    # matrix_shell = shellSort(matrix_flat, len(matrix_flat) - 1)\n",
    "    # matrix_selection = selectionSort(matrix_flat)\n",
    "    # matrix_\n",
    "    \n",
    "    matrix = []\n",
    "    for i in range(0, m_h * m_w, m_w):\n",
    "        matrix += [matrix_flat[i:i + m_w]]\n",
    "\n",
    "    fileWriter(matrix)"
   ]
  },
  {
   "cell_type": "code",
   "execution_count": null,
   "id": "mechanical-utilization",
   "metadata": {
    "scrolled": true
   },
   "outputs": [],
   "source": [
    "if __name__ == '__main__':\n",
    "    main()"
   ]
  }
 ],
 "metadata": {
  "kernelspec": {
   "display_name": "Python 3",
   "language": "python",
   "name": "python3"
  },
  "language_info": {
   "codemirror_mode": {
    "name": "ipython",
    "version": 3
   },
   "file_extension": ".py",
   "mimetype": "text/x-python",
   "name": "python",
   "nbconvert_exporter": "python",
   "pygments_lexer": "ipython3",
   "version": "3.7.9"
  }
 },
 "nbformat": 4,
 "nbformat_minor": 5
}
